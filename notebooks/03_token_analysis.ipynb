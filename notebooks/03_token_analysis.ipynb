{
 "cells": [
  {
   "cell_type": "code",
   "execution_count": 2,
   "metadata": {},
   "outputs": [
    {
     "data": {
      "text/html": [
       "<div>\n",
       "<style scoped>\n",
       "    .dataframe tbody tr th:only-of-type {\n",
       "        vertical-align: middle;\n",
       "    }\n",
       "\n",
       "    .dataframe tbody tr th {\n",
       "        vertical-align: top;\n",
       "    }\n",
       "\n",
       "    .dataframe thead th {\n",
       "        text-align: right;\n",
       "    }\n",
       "</style>\n",
       "<table border=\"1\" class=\"dataframe\">\n",
       "  <thead>\n",
       "    <tr style=\"text-align: right;\">\n",
       "      <th></th>\n",
       "      <th>headline</th>\n",
       "      <th>manual_sentiment</th>\n",
       "      <th>category</th>\n",
       "      <th>vader_score</th>\n",
       "      <th>vader_sentiment</th>\n",
       "      <th>match</th>\n",
       "    </tr>\n",
       "  </thead>\n",
       "  <tbody>\n",
       "    <tr>\n",
       "      <th>1</th>\n",
       "      <td>Fears ease after Fed decision</td>\n",
       "      <td>positive</td>\n",
       "      <td>economic</td>\n",
       "      <td>-0.0772</td>\n",
       "      <td>negative</td>\n",
       "      <td>False</td>\n",
       "    </tr>\n",
       "    <tr>\n",
       "      <th>4</th>\n",
       "      <td>Sunny skies expected this weekend</td>\n",
       "      <td>neutral</td>\n",
       "      <td>weather</td>\n",
       "      <td>0.4215</td>\n",
       "      <td>positive</td>\n",
       "      <td>False</td>\n",
       "    </tr>\n",
       "    <tr>\n",
       "      <th>7</th>\n",
       "      <td>Unemployment hits record low</td>\n",
       "      <td>positive</td>\n",
       "      <td>economic</td>\n",
       "      <td>-0.6124</td>\n",
       "      <td>negative</td>\n",
       "      <td>False</td>\n",
       "    </tr>\n",
       "    <tr>\n",
       "      <th>10</th>\n",
       "      <td>Stock prices dip following Fed statement</td>\n",
       "      <td>negative</td>\n",
       "      <td>economic</td>\n",
       "      <td>0.0000</td>\n",
       "      <td>neutral</td>\n",
       "      <td>False</td>\n",
       "    </tr>\n",
       "    <tr>\n",
       "      <th>11</th>\n",
       "      <td>Athlete tests positive for banned substance</td>\n",
       "      <td>negative</td>\n",
       "      <td>sports</td>\n",
       "      <td>0.1531</td>\n",
       "      <td>positive</td>\n",
       "      <td>False</td>\n",
       "    </tr>\n",
       "  </tbody>\n",
       "</table>\n",
       "</div>"
      ],
      "text/plain": [
       "                                       headline manual_sentiment  category  \\\n",
       "1                 Fears ease after Fed decision         positive  economic   \n",
       "4             Sunny skies expected this weekend          neutral   weather   \n",
       "7                  Unemployment hits record low         positive  economic   \n",
       "10     Stock prices dip following Fed statement         negative  economic   \n",
       "11  Athlete tests positive for banned substance         negative    sports   \n",
       "\n",
       "    vader_score vader_sentiment  match  \n",
       "1       -0.0772        negative  False  \n",
       "4        0.4215        positive  False  \n",
       "7       -0.6124        negative  False  \n",
       "10       0.0000         neutral  False  \n",
       "11       0.1531        positive  False  "
      ]
     },
     "execution_count": 2,
     "metadata": {},
     "output_type": "execute_result"
    }
   ],
   "source": [
    "import pandas as pd\n",
    "\n",
    "df = pd.read_csv('/Users/qasim/Documents/Analyzer Internship Project/Summer_IST495/data/vader_comparison_results.csv')\n",
    "\n",
    "# Filter mismatched predictions\n",
    "mismatches = df[df['match'] == False]\n",
    "mismatches.head()\n"
   ]
  },
  {
   "cell_type": "markdown",
   "metadata": {},
   "source": [
    "Tokenize the headlines using NLTK (found from youtube)"
   ]
  },
  {
   "cell_type": "code",
   "execution_count": 17,
   "metadata": {},
   "outputs": [
    {
     "name": "stderr",
     "output_type": "stream",
     "text": [
      "[nltk_data] Downloading package punkt to /Users/qasim/nltk_data...\n",
      "[nltk_data]   Package punkt is already up-to-date!\n"
     ]
    },
    {
     "data": {
      "text/plain": [
       "True"
      ]
     },
     "execution_count": 17,
     "metadata": {},
     "output_type": "execute_result"
    }
   ],
   "source": [
    "import nltk\n",
    "from nltk.tokenize import word_tokenize\n",
    "from collections import Counter\n",
    "\n",
    "# Download tokenizer\n",
    "nltk.download('punkt')\n"
   ]
  },
  {
   "cell_type": "code",
   "execution_count": 22,
   "metadata": {},
   "outputs": [
    {
     "name": "stdout",
     "output_type": "stream",
     "text": [
      "Most common tokens in mismatched headlines:\n",
      "[('fed', 2), ('fears', 1), ('ease', 1), ('after', 1), ('decision', 1), ('sunny', 1), ('skies', 1), ('expected', 1), ('this', 1), ('weekend', 1)]\n"
     ]
    }
   ],
   "source": [
    "\n",
    "# Initialize tokenizer\n",
    "tokenizer = TreebankWordTokenizer()\n",
    "all_tokens = []\n",
    "\n",
    "# Tokenize each mismatched headline\n",
    "for headline in mismatches['headline']:\n",
    "    tokens = tokenizer.tokenize(headline.lower())\n",
    "    all_tokens.extend(tokens)\n",
    "\n",
    "# Counter of the most frequent tokens\n",
    "token_counts = Counter(all_tokens)\n",
    "\n",
    "# Show top 10 most common tokens\n",
    "print(\"Most common tokens in mismatched headlines:\")\n",
    "print(token_counts.most_common(10))\n"
   ]
  }
 ],
 "metadata": {
  "kernelspec": {
   "display_name": "Python 3",
   "language": "python",
   "name": "python3"
  },
  "language_info": {
   "codemirror_mode": {
    "name": "ipython",
    "version": 3
   },
   "file_extension": ".py",
   "mimetype": "text/x-python",
   "name": "python",
   "nbconvert_exporter": "python",
   "pygments_lexer": "ipython3",
   "version": "3.9.6"
  }
 },
 "nbformat": 4,
 "nbformat_minor": 2
}
