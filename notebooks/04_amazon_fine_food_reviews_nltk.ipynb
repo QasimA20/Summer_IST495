{
 "cells": [
  {
   "cell_type": "code",
   "execution_count": 14,
   "metadata": {},
   "outputs": [
    {
     "name": "stdout",
     "output_type": "stream",
     "text": [
      "   Id   ProductId          UserId                      ProfileName  \\\n",
      "0   1  B001E4KFG0  A3SGXH7AUHU8GW                       delmartian   \n",
      "1   2  B00813GRG4  A1D87F6ZCVE5NK                           dll pa   \n",
      "2   3  B000LQOCH0   ABXLMWJIXXAIN  Natalia Corres \"Natalia Corres\"   \n",
      "3   4  B000UA0QIQ  A395BORC6FGVXV                             Karl   \n",
      "4   5  B006K2ZZ7K  A1UQRSCLF8GW1T    Michael D. Bigham \"M. Wassir\"   \n",
      "\n",
      "   HelpfulnessNumerator  HelpfulnessDenominator  Score        Time  \\\n",
      "0                     1                       1      5  1303862400   \n",
      "1                     0                       0      1  1346976000   \n",
      "2                     1                       1      4  1219017600   \n",
      "3                     3                       3      2  1307923200   \n",
      "4                     0                       0      5  1350777600   \n",
      "\n",
      "                 Summary                                               Text  \n",
      "0  Good Quality Dog Food  I have bought several of the Vitality canned d...  \n",
      "1      Not as Advertised  Product arrived labeled as Jumbo Salted Peanut...  \n",
      "2  \"Delight\" says it all  This is a confection that has been around a fe...  \n",
      "3         Cough Medicine  If you are looking for the secret ingredient i...  \n",
      "4            Great taffy  Great taffy at a great price.  There was a wid...  \n"
     ]
    }
   ],
   "source": [
    "import pandas as pd\n",
    "df = pd.read_csv('/Users/qasim/Documents/Analyzer Internship Project/Summer_IST495/data/Reviews.csv')\n",
    "print(df.head())"
   ]
  },
  {
   "cell_type": "code",
   "execution_count": 16,
   "metadata": {},
   "outputs": [
    {
     "name": "stdout",
     "output_type": "stream",
     "text": [
      "                                                 Text\n",
      "0   I have bought several of the Vitality canned d...\n",
      "1   Product arrived labeled as Jumbo Salted Peanut...\n",
      "2   This is a confection that has been around a fe...\n",
      "3   If you are looking for the secret ingredient i...\n",
      "4   Great taffy at a great price.  There was a wid...\n",
      "5   I got a wild hair for taffy and ordered this f...\n",
      "6   This saltwater taffy had great flavors and was...\n",
      "7   This taffy is so good.  It is very soft and ch...\n",
      "8   Right now I'm mostly just sprouting this so my...\n",
      "9   This is a very healthy dog food. Good for thei...\n",
      "10  I don't know if it's the cactus or the tequila...\n",
      "11  One of my boys needed to lose some weight and ...\n",
      "12  My cats have been happily eating Felidae Plati...\n",
      "13  good flavor! these came securely packed... the...\n",
      "14  The Strawberry Twizzlers are my guilty pleasur...\n",
      "15  My daughter loves twizzlers and this shipment ...\n",
      "16  I love eating them and they are good for watch...\n",
      "17  I am very satisfied with my Twizzler purchase....\n",
      "18  Twizzlers, Strawberry my childhood favorite ca...\n",
      "19  Candy was delivered very fast and was purchase...\n",
      "20  My husband is a Twizzlers addict.  We've bough...\n",
      "21  I bought these for my husband who is currently...\n",
      "22  I can remember buying this candy as a kid and ...\n",
      "23  I love this candy.  After weight watchers I ha...\n",
      "24  I have lived out of the US for over 7 yrs now,...\n",
      "25  Product received is as advertised.<br /><br />...\n",
      "26  The candy is just red , No flavor . Just  plan...\n",
      "27  I was so glad Amazon carried these batteries. ...\n",
      "28  I got this for my Mum who is not diabetic but ...\n",
      "29  I don't know if it's the cactus or the tequila...\n",
      "30  I have never been a huge coffee fan. However, ...\n",
      "31  This offer is a great price and a great taste,...\n",
      "32  McCann's Instant Oatmeal is great if you must ...\n",
      "33  This is a good instant oatmeal from the best o...\n",
      "34  Instant oatmeal can become soggy the minute th...\n",
      "35  McCann's Instant Irish Oatmeal, Variety Pack o...\n",
      "36  For those of us with celiac disease this produ...\n",
      "37  What else do you need to know? Oatmeal, instan...\n",
      "38  I WAS VISITING MY FRIEND NATE THE OTHER MORNIN...\n",
      "39  I ordered this for my wife as it was reccomend...\n",
      "40  The variety packs taste great!<br /><br />I ha...\n",
      "41  McCann's makes oatmeal for every oatmeal conno...\n",
      "42  I have McCann's Oatmeal every morning and by o...\n",
      "43  McCann's Oatmeal is a good quality choice.  Ou...\n",
      "44  We really like the McCann's steel cut oats but...\n",
      "45  This seems a little more wholesome than some o...\n",
      "46  Good oatmeal.  I like the apple cinnamon the b...\n",
      "47  The flavors are good.  However, I do not see a...\n",
      "48  I really like the Maple and Brown Sugar flavor...\n",
      "49  This is the same stuff you can buy at the big ...\n"
     ]
    }
   ],
   "source": [
    "df = df[[\"Text\"]]  # Keep only the 'Text' column\n",
    "print(df.head(50))  # Show first 50 reviews for better output"
   ]
  },
  {
   "cell_type": "code",
   "execution_count": 19,
   "metadata": {},
   "outputs": [
    {
     "name": "stderr",
     "output_type": "stream",
     "text": [
      "[nltk_data] Downloading package punkt to /Users/qasim/nltk_data...\n",
      "[nltk_data]   Package punkt is already up-to-date!\n"
     ]
    },
    {
     "data": {
      "text/plain": [
       "True"
      ]
     },
     "execution_count": 19,
     "metadata": {},
     "output_type": "execute_result"
    }
   ],
   "source": [
    "import nltk\n",
    "from nltk.tokenize import word_tokenize\n",
    "from collections import Counter\n",
    "\n",
    "# Ensure 'punkt' is available\n",
    "nltk.download('punkt')"
   ]
  },
  {
   "cell_type": "code",
   "execution_count": 41,
   "metadata": {},
   "outputs": [
    {
     "name": "stdout",
     "output_type": "stream",
     "text": [
      "Most common meaningful tokens in Amazon reviews:\n",
      "[('oatmeal', 23), ('good', 21), ('mccann', 20), ('instant', 17), ('great', 13), ('sugar', 13), ('like', 11), ('love', 10), ('one', 10), ('pack', 10)]\n"
     ]
    },
    {
     "name": "stderr",
     "output_type": "stream",
     "text": [
      "[nltk_data] Downloading package stopwords to /Users/qasim/nltk_data...\n",
      "[nltk_data]   Package stopwords is already up-to-date!\n"
     ]
    }
   ],
   "source": [
    "from nltk.tokenize import TreebankWordTokenizer\n",
    "from nltk.corpus import stopwords\n",
    "\n",
    "# Setup \n",
    "nltk.download(\"stopwords\")\n",
    "tokenizer = TreebankWordTokenizer()\n",
    "stop_words = set(stopwords.words(\"english\"))\n",
    "\n",
    "#  Loading the dataset \n",
    "df = df[[\"Text\"]].dropna().head(50)   # use first 50 \n",
    "\n",
    "# Combining all reviews into one string \n",
    "all_reviews = \" \".join(df[\"Text\"].astype(str)).lower()\n",
    "\n",
    "#tokenize \n",
    "tokens = tokenizer.tokenize(all_reviews)\n",
    "\n",
    "# keep only alphabetic tokens with len > 2 (this removes any irrelevant words)\n",
    "filtered_tokens = [\n",
    "    token for token in tokens\n",
    "    if token.isalpha() and token not in stop_words and len(token) > 2\n",
    "]\n",
    "\n",
    "#  show top tokens\n",
    "token_counts = Counter(filtered_tokens)\n",
    "print(\"Most common meaningful tokens in Amazon reviews:\")\n",
    "print(token_counts.most_common(10))\n"
   ]
  },
  {
   "cell_type": "markdown",
   "metadata": {},
   "source": [
    "I broke each review into individual word tokens using NLTK. I then cleaned the tokens to keep only the words that matter(removed words like the and and). Then counted how often each meaningful word appeared across all reviews. This gives us insight into what themes or items are most frequently talked about.\n",
    "\n",
    "\n",
    "\n",
    "\n"
   ]
  },
  {
   "cell_type": "code",
   "execution_count": 39,
   "metadata": {},
   "outputs": [
    {
     "data": {
      "image/png": "[encoded data removed]",
      "text/plain": [
       "<Figure size 1000x600 with 1 Axes>"
      ]
     },
     "metadata": {},
     "output_type": "display_data"
    }
   ],
   "source": [
    "import matplotlib.pyplot as plt\n",
    "\n",
    "# Get the top 10 most common tokens that i will be using for bar chart\n",
    "top_tokens = token_counts.most_common(10)\n",
    "words, counts = zip(*top_tokens)\n",
    "\n",
    "# Create bar chart\n",
    "plt.figure(figsize=(10, 6))\n",
    "plt.bar(words, counts)\n",
    "plt.title('Top 10 Most Common Words in Amazon Reviews')\n",
    "plt.xlabel('Words')\n",
    "plt.ylabel('Frequency')\n",
    "plt.xticks(rotation=45)\n",
    "plt.grid(axis='y', alpha=0.7)\n",
    "plt.tight_layout()\n",
    "plt.show()\n"
   ]
  }
 ],
 "metadata": {
  "kernelspec": {
   "display_name": "Python 3",
   "language": "python",
   "name": "python3"
  },
  "language_info": {
   "codemirror_mode": {
    "name": "ipython",
    "version": 3
   },
   "file_extension": ".py",
   "mimetype": "text/x-python",
   "name": "python",
   "nbconvert_exporter": "python",
   "pygments_lexer": "ipython3",
   "version": "3.9.6"
  }
 },
 "nbformat": 4,
 "nbformat_minor": 2
}
