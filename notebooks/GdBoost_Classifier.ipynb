{
 "cells": [
  {
   "cell_type": "code",
   "execution_count": 3,
   "id": "8c55bf6f",
   "metadata": {},
   "outputs": [
    {
     "name": "stdout",
     "output_type": "stream",
     "text": [
      "Defaulting to user installation because normal site-packages is not writeable\n",
      "Requirement already satisfied: xgboost in /Users/qasim/Library/Python/3.9/lib/python/site-packages (2.1.4)\n",
      "Requirement already satisfied: numpy in /Users/qasim/Library/Python/3.9/lib/python/site-packages (from xgboost) (2.0.2)\n",
      "Requirement already satisfied: scipy in /Users/qasim/Library/Python/3.9/lib/python/site-packages (from xgboost) (1.13.1)\n",
      "\n",
      "\u001b[1m[\u001b[0m\u001b[34;49mnotice\u001b[0m\u001b[1;39;49m]\u001b[0m\u001b[39;49m A new release of pip is available: \u001b[0m\u001b[31;49m24.3.1\u001b[0m\u001b[39;49m -> \u001b[0m\u001b[32;49m25.1.1\u001b[0m\n",
      "\u001b[1m[\u001b[0m\u001b[34;49mnotice\u001b[0m\u001b[1;39;49m]\u001b[0m\u001b[39;49m To update, run: \u001b[0m\u001b[32;49m/Applications/Xcode.app/Contents/Developer/usr/bin/python3 -m pip install --upgrade pip\u001b[0m\n"
     ]
    }
   ],
   "source": [
    "!pip install xgboost\n"
   ]
  },
  {
   "cell_type": "code",
   "execution_count": 68,
   "id": "fe2df826",
   "metadata": {},
   "outputs": [],
   "source": [
    "from xgboost import XGBClassifier"
   ]
  },
  {
   "cell_type": "code",
   "execution_count": 91,
   "id": "07d7c7d6",
   "metadata": {},
   "outputs": [
    {
     "name": "stderr",
     "output_type": "stream",
     "text": [
      "/var/folders/8n/rfbb5wx545s1sgtlncggpk240000gn/T/ipykernel_18224/1615046114.py:28: UserWarning: pandas only supports SQLAlchemy connectable (engine/connection) or database string URI or sqlite3 DBAPI2 connection. Other DBAPI2 objects are not tested. Please consider using SQLAlchemy.\n",
      "  df = pd.read_sql(query, conn)\n"
     ]
    },
    {
     "data": {
      "text/html": [
       "<div>\n",
       "<style scoped>\n",
       "    .dataframe tbody tr th:only-of-type {\n",
       "        vertical-align: middle;\n",
       "    }\n",
       "\n",
       "    .dataframe tbody tr th {\n",
       "        vertical-align: top;\n",
       "    }\n",
       "\n",
       "    .dataframe thead th {\n",
       "        text-align: right;\n",
       "    }\n",
       "</style>\n",
       "<table border=\"1\" class=\"dataframe\">\n",
       "  <thead>\n",
       "    <tr style=\"text-align: right;\">\n",
       "      <th></th>\n",
       "      <th>headline</th>\n",
       "      <th>sentiment_score</th>\n",
       "      <th>confidence_score</th>\n",
       "      <th>matched_keywords</th>\n",
       "      <th>label</th>\n",
       "    </tr>\n",
       "  </thead>\n",
       "  <tbody>\n",
       "    <tr>\n",
       "      <th>0</th>\n",
       "      <td>Palantir Hit With Caution Flag, Citi Sees Risk...</td>\n",
       "      <td>-0.45</td>\n",
       "      <td>0.45</td>\n",
       "      <td>down, slow</td>\n",
       "      <td>1</td>\n",
       "    </tr>\n",
       "    <tr>\n",
       "      <th>1</th>\n",
       "      <td>Why J.M. Smucker Stock Plummeted This Week</td>\n",
       "      <td>-1.00</td>\n",
       "      <td>1.00</td>\n",
       "      <td>plummeted</td>\n",
       "      <td>1</td>\n",
       "    </tr>\n",
       "    <tr>\n",
       "      <th>2</th>\n",
       "      <td>Meta Sues Crush AI to Block 'Nudify' Ads</td>\n",
       "      <td>-0.70</td>\n",
       "      <td>0.70</td>\n",
       "      <td>sue</td>\n",
       "      <td>1</td>\n",
       "    </tr>\n",
       "    <tr>\n",
       "      <th>3</th>\n",
       "      <td>This Wall Street pro did a deep dive into Tesl...</td>\n",
       "      <td>0.40</td>\n",
       "      <td>0.40</td>\n",
       "      <td>up</td>\n",
       "      <td>0</td>\n",
       "    </tr>\n",
       "    <tr>\n",
       "      <th>4</th>\n",
       "      <td>American Water Recognized for Excellence in Wa...</td>\n",
       "      <td>0.40</td>\n",
       "      <td>0.40</td>\n",
       "      <td>partnership</td>\n",
       "      <td>1</td>\n",
       "    </tr>\n",
       "  </tbody>\n",
       "</table>\n",
       "</div>"
      ],
      "text/plain": [
       "                                            headline  sentiment_score  \\\n",
       "0  Palantir Hit With Caution Flag, Citi Sees Risk...            -0.45   \n",
       "1         Why J.M. Smucker Stock Plummeted This Week            -1.00   \n",
       "2           Meta Sues Crush AI to Block 'Nudify' Ads            -0.70   \n",
       "3  This Wall Street pro did a deep dive into Tesl...             0.40   \n",
       "4  American Water Recognized for Excellence in Wa...             0.40   \n",
       "\n",
       "   confidence_score matched_keywords  label  \n",
       "0              0.45       down, slow      1  \n",
       "1              1.00        plummeted      1  \n",
       "2              0.70              sue      1  \n",
       "3              0.40               up      0  \n",
       "4              0.40      partnership      1  "
      ]
     },
     "execution_count": 91,
     "metadata": {},
     "output_type": "execute_result"
    }
   ],
   "source": [
    "import mysql.connector\n",
    "import pandas as pd\n",
    "\n",
    "# Connect to your MySQL database\n",
    "conn = mysql.connector.connect(\n",
    "    host='localhost',\n",
    "    user='root',\n",
    "    password='Qasim2004',\n",
    "    database='stock_news'\n",
    ")\n",
    "\n",
    "# Load headlines with sentiment labels (adjust query as needed)\n",
    "query = \"\"\"\n",
    "SELECT \n",
    "    headline, \n",
    "    sentiment_score, \n",
    "    confidence_score,\n",
    "    matched_keywords,\n",
    "    CASE \n",
    "        WHEN price_change_pct_24h > 0 THEN 1 \n",
    "        ELSE 0 \n",
    "    END AS label\n",
    "FROM headlines\n",
    "WHERE sentiment_score != 0\n",
    " AND price_change_pct_24h IS NOT NULL;\n",
    "\"\"\"\n",
    "\n",
    "df = pd.read_sql(query, conn)\n",
    "conn.close()\n",
    "\n",
    "\n",
    "# Preview\n",
    "df.head()\n"
   ]
  },
  {
   "cell_type": "code",
   "execution_count": 92,
   "id": "da2f7e91",
   "metadata": {},
   "outputs": [
    {
     "name": "stdout",
     "output_type": "stream",
     "text": [
      "['headline', 'sentiment_score', 'confidence_score', 'matched_keywords', 'label']\n"
     ]
    }
   ],
   "source": [
    "print(df.columns.tolist())\n"
   ]
  },
  {
   "cell_type": "code",
   "execution_count": 93,
   "id": "c702058c",
   "metadata": {},
   "outputs": [],
   "source": [
    "# Feature: length of the headline\n",
    "df['headline_length'] = df['headline'].apply(len)\n",
    "\n",
    "# Feature: count of matched keywords (comma-separated string)\n",
    "df['keyword_count'] = df['matched_keywords'].apply(\n",
    "    lambda x: len(str(x).split(',')) if pd.notnull(x) else 0\n",
    ")"
   ]
  },
  {
   "cell_type": "code",
   "execution_count": 110,
   "id": "4c1627f7",
   "metadata": {},
   "outputs": [],
   "source": [
    "df['label'] = df['price_change_pct_24h'].apply(lambda x: 1 if x > 1 else 0)\n"
   ]
  },
  {
   "cell_type": "markdown",
   "id": "fd985300",
   "metadata": {},
   "source": [
    "XGBoost"
   ]
  },
  {
   "cell_type": "code",
   "execution_count": 94,
   "id": "0c59b5f4",
   "metadata": {},
   "outputs": [],
   "source": [
    "import pandas as pd\n",
    "import numpy as np\n",
    "import re\n",
    "from sklearn.ensemble import GradientBoostingRegressor\n",
    "from sklearn.metrics import mean_squared_error, r2_score\n",
    "from sklearn.model_selection import train_test_split\n"
   ]
  },
  {
   "cell_type": "code",
   "execution_count": 95,
   "id": "3de658b0",
   "metadata": {},
   "outputs": [],
   "source": [
    "sentiment_dict = {\n",
    "\n",
    "    # Strong positive (~1.0)\n",
    "    \"soars\": 1.0, \"surge\": 1.0, \"beat\": 1.0, \"growth\": 0.95, \"record\": 1.0, \"outperform\": 1.0, \n",
    "    \"tops\": 0.9, \"celebrates\": 0.9, \"profit\": 0.95, \"developing drug\": 1.0,\n",
    "    \"developed immunotherapeutic drugs\": 1.0, \"genetic medicine development\": 1.0, \n",
    "    \"accelerating genetic medicine\": 1.0, \"more promising growth opportunities\": 0.95,\n",
    "    \"record revenue\": 1.0, \"jumps\": 0.8, \"surges\": 0.9, \"breaks out\": 0.8, \"AI partnership\": 0.7,\n",
    "    \"AI investment\": 0.7, \"approval\": 0.7, \"winning\": 0.7, \"greenlight\": 0.7, \"jumped\": 0.6,\n",
    "    \"soared\": 0.6,\n",
    "\n",
    "\n",
    "    # Mild positive (~0.3 to 0.7)\n",
    "    \"gain\": 0.6, \"up\": 0.4, \"buy\": 0.4, \"strong\": 0.6, \"launch\": 0.5, \"debuts\": 0.5, \n",
    "    \"approve\": 0.6, \"positive\": 0.5, \"expands\": 0.5, \"rebranding\": 0.3, \"innovation\": 0.6,\n",
    "    \"supporting inventory growth\": 0.5, \"financing agreement\": 0.4, \"debt payoff\": 0.5,\n",
    "    \"material transfer agreement\": 0.3, \"potential acquisition\": 0.5, \"agreement to merge\": 0.5,\n",
    "    \"seeks to merge\": 0.4, \"agreement with leading\": 0.4, \"acquire substantially\": 0.5,\n",
    "    \"assumption agreement\": 0.3, \"acquire equity\": 0.5, \"premium\": 0.6, \"expansion\": 0.5,\n",
    "    \"leading providers\": 0.4, \"predicting growth\": 0.5, \"reports growth\": 0.5,\n",
    "    \"nasdaq regain compliance\": 0.6, \"balance sheet increase\": 0.5, \"total asset increase\": 0.5,\n",
    "    \"asset increase\": 0.5, \"approval phase\": 0.6, \"pivotal phase\": 0.5, \"acquire\": 0.5,\n",
    "    \"favorable safety\": 0.6, \"not side affect\": 0.5, \"visit casino\": 0.3, \"chinese stimulus\": 0.6,\n",
    "    \"innovative ai\": 0.6, \"higher margin ads\": 0.7, \"goldman upgrade\": 0.7, \"morgan upgrade\": 0.7,\n",
    "    \"brand leader\": 0.5, \"authorizing quarterly dividend\": 0.6, \"quarterly dividend\": 0.5,\n",
    "    \"monetary stimulus\": 0.7, \"rate cuts\": 0.5, \"big cuts\": 0.5, \"research contract\": 0.4,\n",
    "    \"advanced link terminals\": 0.4, \"focus digital platforms\": 0.5, \"investment\": 0.4,\n",
    "    \"focus streaming platforms\": 0.5, \"promising growth\": 0.5, \"quantum contract award\": 0.6,\n",
    "    \"ai force research\": 0.6, \"enhancing customer support\": 0.5, \"expanded service network\": 0.4,\n",
    "    \"sufficient production capital\": 0.5, \"improve unit costs\": 0.5, \"mass production\": 0.4,\n",
    "    \"smart device lineup\": 0.5, \"expansion smart device\": 0.4, \"interactive experience\": 0.4,\n",
    "    \"help kids\": 0.3, \"make learning more\": 0.4, \"learning more engaging\": 0.4,\n",
    "    \"enhance memory retention\": 0.4, \"additional earn-out payment\": 0.4, \"modernize\": 0.4,\n",
    "    \"additional payment\": 0.3, \"owned subsidiary\": 0.4, \"accelerate business development\": 0.6,\n",
    "    \"accelerate development\": 0.6, \"accelerate growth\": 0.6, \"proposed purchase price\": 0.3,\n",
    "    \"non-binding proposal\": 0.3, \"pleased to announce\": 0.5, \"gold drilling completed\": 0.4,\n",
    "    \"diamond drill completed\": 0.4, \"receiving a grant\": 0.4, \"develop technology\": 0.5,\n",
    "    \"commercial agreement\": 0.4, \"supply alternative\": 0.3, \"successful launch\": 0.6,\n",
    "    \"first income\": 0.5, \"strategic initiatives\": 0.4, \"purchase premium\": 0.5,\n",
    "    \"growth equity\": 0.6, \"increased investment\": 0.6, \"enhancing long-term value\": 0.6,\n",
    "    \"donation\": 0.4, \"partnership\": 0.4, \"donation and partnership\": 0.5, \"improves\": 0.4,\n",
    "    \"social responsibility\": 0.4, \"strengthening public image\": 0.4, \"customer loyalty\": 0.4,\n",
    "    \"positive brand awareness\": 0.4, \"community support\": 0.5, \"boosting user activity\": 0.4,\n",
    "    \"won community\": 0.4, \"won award\": 0.5, \"reduce debt\": 0.5, \"monetizing asset\": 0.4,\n",
    "    \"attractive cap\": 0.4, \"strong support\": 0.4, \"accelerating development\": 0.6,\n",
    "    \"expand treatment\": 0.5, \"surplus\": 0.5, \"opens\": 0.5, \"rebound\": 0.4, \"boost\": 0.5,\n",
    "     \"AI tools\": 0.6, \"cloud acceleration\": 0.6, \"first quarter results\": 0.4, \"agreement\": 0.3, \"adds\": 0.3, \n",
    "    \"incremental loan\": 0.4,  \"restructuring\": 0.3, \"opens facility\": 0.4, \"expands service\": 0.5,\n",
    "    \"resume shipments\": 0.4, \"collaboration\": 0.5, \"surprise win\": 0.6, \"AI expansion\": 0.6, \"launches AI model\": 0.5,\n",
    "    \"declares dividend\": 0.3, \"declares cash dividend\": 0.4, \"declares quarterly cash dividend\": 0.4,\n",
    "    \"declares monthly cash dividend\": 0.4, \"dividend\": 0.3, \"cash dividend\": 0.4, \"quarterly dividend\": 0.3, \"monthly dividend\": 0.3,\n",
    "    \"preferred dividend\": 0.2, \"distribution\": 0.2, \"declares distribution\": 0.3, \"regular dividend\": 0.3, \"income fund declares\": 0.3,\n",
    "    \"partners with\": 0.3, \"help banks test AI tools\": 0.4, \"open its AI models\": 0.3, \"build first industrial AI cloud\": 0.4,\n",
    "    \"maintains healthy fundamentals\": 0.4, \"attracts\": 0.4, \"broadens drone delivery service\": 0.3, \"secures\": 0.3,\n",
    "    \"restarts shipments\": 0.4, \"achieves primary endpoint\": 0.5, \"bets big\": 0.4, \"digital makeover\": 0.3, \"revenue potential\": 0.4,\n",
    "    \"expand into\": 0.3, \"preps overhaul\": 0.3, \"unveils\": 0.2, \"raises forecast\": 0.4, \"bull case for stocks\": 0.4,\n",
    "    \"unlock real estate liquidity\": 0.3, \"highlighting strategic progress\": 0.3, \"first fully-licensed ai video model\": 0.4,\n",
    "    \"strategic integration\": 0.3, \"enhance digital engagement\": 0.3, \"midyear outlook\": 0.2, \"pragmatic optimism\": 0.3,\n",
    "    \"top 100 rankings\": 0.3, \"new numbers\": 0.2, \"releases strong earnings\": 0.3, \"releases new product\": 0.3,\n",
    "    \"releases new model\": 0.3, \"releases new feature\": 0.3, \"releases beta version\": 0.2, \"releases cloud platform\": 0.4,\n",
    "    \"releases software update\": 0.3, \"releases ai tool\": 0.4, \"releases guidance\": 0.2, \"achieves\": 0.5, \"potential\": 0.2,\n",
    "    \"advance ai\": 0.4, \"thanks\": 0.2, \"appoints\": 0.2, \"jumping\": 0.5, \"climbs\": 0.4, \"soaring\": 0.6, \"ranks\": 0.3,\n",
    "    \"increases stake\": 0.4, \"all-time high\": 0.5, \"grants\": 0.2, \"introduces\": 0.3, \"selected\": 0.3, \"rise\": 0.3,\n",
    "    \"integration\": 0.3, \"grand opening\": 0.3, \"unveils new\": 0.3, \"sale\": 0.2, \"signs deal\": 0.4, \"new highs\": 0.4,\n",
    "    \"restarts\": 0.4, \"stock repurchase program\": 0.5, \"acquisition\": 0.4, \"new corporate name\": 0.1, \"appoints chief financial officer\": 0.2,\n",
    "    \"new cfo\": 0.2,  \"acquires\": 0.4, \"joint venture\": 0.3, \"solar installation\": 0.3, \"promotion\": 0.2,\n",
    "    \"successful renewal\": 0.4, \"acquisition of infill portfolio\": 0.4, \"build a hospital\": 0.4, \"announces new chief\": 0.2,\n",
    "\n",
    "\n",
    "\n",
    "    # Strong Negative \n",
    "    \"miss\": -0.9, \"misses\": -0.9, \"lawsuit\": -0.8, \"down\": -0.6, \"cut\": -0.5, \"recall\": -0.8,\n",
    "    \"fall\": -0.6, \"drop\": -0.8, \"reverse stock split\": -0.9, \"restructuring layoffs\": -0.8, \n",
    "    \"executive exits\": -0.6, \"shareholder lawsuit\": -0.9, \"trading halted\": -1.0, \"releases disappointing earnings\": -0.6,\n",
    "    \"loss\": -0.9, \"warns\": -0.8, \"delay\": -0.6, \"trap\": -0.7,\n",
    "    \"fear\": -0.5, \"crash\": -1.0, \"struggle\": -0.7, \"negative\": -0.5, \"reverse split\": -0.6,\n",
    "    \"compliance ruling\": -0.5, \"court compliance\": -0.5, \"layoffs\": -0.9, \"plummeted\": -1.0,\n",
    "    \"fired\": -0.9, \"investigation\": -0.8, \"fraud\": -1.0, \"downgrade\": -0.8,\n",
    "    \"short report\": -0.7, \"selloff\": -0.9, \"slump\": -0.7, \"decline\": -0.6, \"weakened\": -0.6,\n",
    "    \"bankruptcy\": -1.0, \"insider trading\": -1.0, \"data breach\": -0.9, \"hacked\": -0.8,\n",
    "    \"monopoly\": -0.6, \"sue\": -0.7, \"closed stores\": -0.8, \"delisting\": -1.0, \"plunges\": -1.0, \n",
    "    \"earnings miss\": -0.8, \"canceled contract\": -0.9, \"fined\": -0.9, \"legal challenge\": -0.8,\n",
    "    \"slowing\": -0.5, \"concerns\": -0.4, \"delays\": -0.6, \"uncertainty\": -0.5, \"feud\": -0.6, \n",
    "    \"dispute\": -0.6, \"tariff impact\": -0.6, \"conflict\": -0.6, \"regulatory hurdles\": -0.5, \n",
    "    \"immigration raid\": -0.7, \"valuation trap\": -0.7, \"shutdown\": -0.8, \"stock looks like it's in trouble\": -0.6,\n",
    "    \"releases fraud investigation results\": -0.7, \"releases bankruptcy statement\": -1.0,\n",
    "    \"guidance cut\": -0.7, \"slashing forecast\": -0.8, \"warns of slowdown\": -0.7, \"disappoints investors\": -0.6,\n",
    "    \"regulatory probe\": -0.8, \"investigation launched\": -0.7, \"ceo steps down\": -0.6, \"executive departure\": -0.6,\n",
    "    \"missed expectations\": -0.8, \"pulls guidance\": -0.8, \"dividend suspended\": -0.9, \"cash burn\": -0.7,\n",
    "    \"cutting workforce\": -0.8, \"restructuring plan\": -0.5, \"dilution\": -0.6, \"raises debt\": -0.5, \"revises outlook lower\": -0.7,\n",
    "    \"sec charges\": -1.0, \"settles fraud charges\": -0.9, \"product defect\": -0.8, \"safety issue\": -0.7, \"delays product launch\": -0.6,\n",
    "    \"cutting dividend\": -0.8, \"material weakness\": -0.8, \"trash\": -0.6, \"slashes\": -0.6, \"tumbles\": -0.8, \"proposes ban\": -0.6,\n",
    "\n",
    "\n",
    "\n",
    "    #Mild Negs\n",
    "    \"choppy market\": -0.4, \"anything but trash\": -0.5, \"being choppier\": -0.3, \"mulls sale of\": -0.2, \n",
    "    \"gloomy about economy\": -0.4, \"what the chart says may come next\": -0.2,\n",
    "    \"releases weak guidance\": -0.5, \"releases layoffs plan\": -0.4, \"releases restated earnings\": -0.6,\n",
    "    \"releases downward revision\": -0.5, \"under pressure\": -0.3, \"uncertain outlook\": -0.4,\n",
    "    \"market headwinds\": -0.3, \"demand slowdown\": -0.4, \"weaker-than-expected\": -0.4, \"execution risk\": -0.3,\n",
    "    \"missed deadline\": -0.3, \"volatile trading\": -0.3, \"slight miss\": -0.3, \"tumbles slightly\": -0.3,\n",
    "    \"trimming forecast\": -0.4, \"elevated risk\": -0.3, \"market volatility\": -0.3, \"profit warning\": -0.4,\n",
    "    \"underperformance\": -0.3, \"tightening conditions\": -0.3, \"revises outlook\": -0.3, \"sales below forecast\": -0.4,\n",
    "    \"margins under pressure\": -0.4, \"rising costs\": -0.3, \"slower growth\": -0.4, \"falling short\": -0.4, \"guidance uncertainty\": -0.3,\n",
    "    \"increased competition\": -0.3, \"fading\": -0.3, \"inflation\": -0.4, \"slow\": -0.3, \"all-time low\": -0.5,\n",
    "    \"struggling\": -0.6, \"worries\": -0.4, \"new lows\": -0.4, \"maintains a hold rating\": -0.2, \"keeps a hold rating\": -0.2,\n",
    "    \"reiterates a hold rating\": -0.2, \"closes public offering\": -0.2, \"reopening convertible notes\": -0.3,\n",
    "    \"pricing of senior notes\": -0.3, \"debt refinancing\": -0.2, \"adjournment of annual meeting\": -0.3,\n",
    "    \"reschedules earnings release\": -0.3, \"closing of secondary offering\": -0.2, \"liquidation of funds\": -0.4,\n",
    "    \"senior unsecured notes\": -0.3, \"announces closing of secondary public offering\": -0.3, \"announces closing\": -0.2,\n",
    "\n",
    "\n",
    "\n",
    "    # Neutral/monitor for now (0.0)\n",
    "    \"casino\": 0.0, \"ai drama\": 0.0, \"china content\": 0.0, \"short platform\": 0.0,\n",
    "    \"short drama\": 0.0, \n",
    "}"
   ]
  },
  {
   "cell_type": "code",
   "execution_count": 96,
   "id": "3af840e6",
   "metadata": {},
   "outputs": [],
   "source": [
    "def enrich_headline_features(df, sentiment_dict):\n",
    "    def count_sentiment_keywords(text, sentiment_dict, polarity):\n",
    "        matches = [\n",
    "            word for word in sentiment_dict\n",
    "            if word in text.lower() and (\n",
    "                (polarity == \"positive\" and sentiment_dict[word] > 0)\n",
    "                or (polarity == \"negative\" and sentiment_dict[word] < 0)\n",
    "            )\n",
    "        ]\n",
    "        return len(matches)\n",
    "    \n",
    "    df[\"headline_length\"] = df[\"headline\"].apply(len)\n",
    "    df[\"word_count\"] = df[\"headline\"].apply(lambda x: len(str(x).split()))\n",
    "    df[\"contains_question_mark\"] = df[\"headline\"].apply(lambda x: \"?\" in str(x)).astype(int)\n",
    "    df[\"contains_exclamation\"] = df[\"headline\"].apply(lambda x: \"!\" in str(x)).astype(int)\n",
    "    df[\"num_positive_keywords\"] = df[\"headline\"].apply(lambda x: count_sentiment_keywords(x, sentiment_dict, \"positive\"))\n",
    "    df[\"num_negative_keywords\"] = df[\"headline\"].apply(lambda x: count_sentiment_keywords(x, sentiment_dict, \"negative\"))\n",
    "    return df\n"
   ]
  },
  {
   "cell_type": "code",
   "execution_count": 97,
   "id": "05c257d9",
   "metadata": {},
   "outputs": [],
   "source": [
    "conn = mysql.connector.connect(\n",
    "    host='localhost',\n",
    "    user='root',\n",
    "    password='Qasim2004',\n",
    "    database='stock_news'\n",
    ")\n",
    "\n",
    "query = \"\"\"\n",
    "SELECT\n",
    "  headline,\n",
    "  sentiment_score,\n",
    "  confidence_score,\n",
    "  price_change_pct_24h\n",
    "FROM headlines\n",
    "WHERE sentiment_score IS NOT NULL\n",
    "  AND price_change_pct_24h IS NOT NULL\n",
    "\"\"\"\n",
    "\n",
    "\n",
    "cursor = conn.cursor()\n",
    "cursor.execute(query)\n",
    "rows = cursor.fetchall()\n",
    "columns = [i[0] for i in cursor.description]\n",
    "df = pd.DataFrame(rows, columns=columns)\n",
    "conn.close()\n",
    "\n"
   ]
  },
  {
   "cell_type": "code",
   "execution_count": 98,
   "id": "147e1a2c",
   "metadata": {},
   "outputs": [],
   "source": [
    "# Add textual features using sentiment_dict\n",
    "df = enrich_headline_features(df, sentiment_dict)\n"
   ]
  },
  {
   "cell_type": "code",
   "execution_count": 99,
   "id": "fa9162e6",
   "metadata": {},
   "outputs": [
    {
     "name": "stdout",
     "output_type": "stream",
     "text": [
      "Index(['headline', 'sentiment_score', 'confidence_score',\n",
      "       'price_change_pct_24h', 'headline_length', 'word_count',\n",
      "       'contains_question_mark', 'contains_exclamation',\n",
      "       'num_positive_keywords', 'num_negative_keywords'],\n",
      "      dtype='object')\n"
     ]
    }
   ],
   "source": [
    "print(df.columns)\n"
   ]
  },
  {
   "cell_type": "code",
   "execution_count": 100,
   "id": "59d21967",
   "metadata": {},
   "outputs": [
    {
     "name": "stdout",
     "output_type": "stream",
     "text": [
      "RMSE: 4.448857103761354\n",
      "R^2 Score: -0.9494051576630995\n"
     ]
    }
   ],
   "source": [
    "# Define features and target\n",
    "features = [\"sentiment_score\", \"headline_length\", \"word_count\", \"contains_question_mark\",\n",
    "            \"contains_exclamation\", \"num_positive_keywords\", \"num_negative_keywords\"]\n",
    "target = \"price_change_pct_24h\"\n",
    "\n",
    "X = df[features]\n",
    "y = df[target]\n",
    "\n",
    "# Convert to numeric\n",
    "X = X.apply(pd.to_numeric, errors='coerce')\n",
    "y = pd.to_numeric(y, errors='coerce')\n",
    "\n",
    "# Drop any rows with NaNs\n",
    "X = X.dropna()\n",
    "y = y.loc[X.index]\n",
    "\n",
    "# Train-test split\n",
    "X_train, X_test, y_train, y_test = train_test_split(X, y, test_size=0.2, random_state=42)\n",
    "\n",
    "# Train the model\n",
    "model = GradientBoostingRegressor(n_estimators=100, learning_rate=0.1, max_depth=3)\n",
    "model.fit(X_train, y_train)\n",
    "\n",
    "# Evaluate\n",
    "y_pred = model.predict(X_test)\n",
    "print(\"RMSE:\", mean_squared_error(y_test, y_pred) ** 0.5)\n",
    "print(\"R^2 Score:\", r2_score(y_test, y_pred))\n"
   ]
  },
  {
   "cell_type": "code",
   "execution_count": 101,
   "id": "cad2cfb4",
   "metadata": {},
   "outputs": [
    {
     "data": {
      "text/plain": [
       "<Axes: >"
      ]
     },
     "execution_count": 101,
     "metadata": {},
     "output_type": "execute_result"
    },
    {
     "data": {
      "image/png": "[encoded data removed]",
      "text/plain": [
       "<Figure size 640x480 with 1 Axes>"
      ]
     },
     "metadata": {},
     "output_type": "display_data"
    }
   ],
   "source": [
    "df['price_change_pct_24h'].hist(bins=50)\n"
   ]
  },
  {
   "cell_type": "markdown",
   "id": "01f8d978",
   "metadata": {},
   "source": [
    "# -Random Forest Regressor (Experiment 2) "
   ]
  },
  {
   "cell_type": "code",
   "execution_count": 102,
   "id": "9b07ede7",
   "metadata": {},
   "outputs": [],
   "source": [
    "from sklearn.ensemble import RandomForestRegressor\n",
    "from sklearn.metrics import mean_squared_error, r2_score\n",
    "\n"
   ]
  },
  {
   "cell_type": "code",
   "execution_count": 103,
   "id": "6ae73d4b",
   "metadata": {},
   "outputs": [
    {
     "name": "stdout",
     "output_type": "stream",
     "text": [
      "\n",
      "--- Random Forest Regressor ---\n",
      "RMSE: 4.9604\n",
      "R^2 Score: -1.4234\n"
     ]
    }
   ],
   "source": [
    "# --- Random Forest Regressor ---\n",
    "print(\"\\n--- Random Forest Regressor ---\")\n",
    "\n",
    "# Initialize and train the model\n",
    "rf_model = RandomForestRegressor(n_estimators=100, max_depth=5, random_state=42)\n",
    "rf_model.fit(X_train, y_train)\n",
    "\n",
    "# Predict and evaluate\n",
    "rf_preds = rf_model.predict(X_test)\n",
    "\n",
    "# Evaluate the model\n",
    "import numpy as np\n",
    "rf_rmse = np.sqrt(mean_squared_error(y_test, rf_preds))\n",
    "\n",
    "rf_r2 = r2_score(y_test, rf_preds)\n",
    "\n",
    "print(f\"RMSE: {rf_rmse:.4f}\")\n",
    "print(f\"R^2 Score: {rf_r2:.4f}\")\n"
   ]
  },
  {
   "cell_type": "markdown",
   "id": "66fe5894",
   "metadata": {},
   "source": [
    "BINARY CLASSIFICATION"
   ]
  },
  {
   "cell_type": "code",
   "execution_count": 104,
   "id": "3e1dce65",
   "metadata": {},
   "outputs": [],
   "source": [
    "# Create binary label: 1 if price_change_pct_24h > 0, else 0\n",
    "df['price_went_up'] = df['price_change_pct_24h'] > 0\n",
    "df['price_went_up'] = df['price_went_up'].astype(int)\n"
   ]
  },
  {
   "cell_type": "code",
   "execution_count": 105,
   "id": "d4783109",
   "metadata": {},
   "outputs": [],
   "source": [
    "features = [\"sentiment_score\", \"headline_length\", \"word_count\", \n",
    "            \"contains_question_mark\", \"contains_exclamation\", \n",
    "            \"num_positive_keywords\", \"num_negative_keywords\"]\n",
    "\n",
    "target = \"price_went_up\"\n",
    "\n",
    "X = df[features]\n",
    "y = df[target]\n"
   ]
  },
  {
   "cell_type": "code",
   "execution_count": 106,
   "id": "c7e559e7",
   "metadata": {},
   "outputs": [],
   "source": [
    "# ensure numeric values\n",
    "X = X.apply(pd.to_numeric, errors='coerce')\n",
    "X = X.dropna()\n",
    "y = y.loc[X.index]\n",
    "\n",
    "# Train-test \n",
    "from sklearn.model_selection import train_test_split\n",
    "X_train, X_test, y_train, y_test = train_test_split(X, y, test_size=0.2, random_state=42)\n"
   ]
  },
  {
   "cell_type": "code",
   "execution_count": 107,
   "id": "f50978b8",
   "metadata": {},
   "outputs": [
    {
     "name": "stdout",
     "output_type": "stream",
     "text": [
      "Accuracy: 0.5125815470643057\n",
      "\n",
      "Classification Report:\n",
      "               precision    recall  f1-score   support\n",
      "\n",
      "           0       0.52      0.51      0.51       540\n",
      "           1       0.51      0.51      0.51       533\n",
      "\n",
      "    accuracy                           0.51      1073\n",
      "   macro avg       0.51      0.51      0.51      1073\n",
      "weighted avg       0.51      0.51      0.51      1073\n",
      "\n",
      "\n",
      "Confusion Matrix:\n",
      " [[277 263]\n",
      " [260 273]]\n"
     ]
    }
   ],
   "source": [
    "from sklearn.ensemble import GradientBoostingClassifier\n",
    "from sklearn.metrics import classification_report, accuracy_score, confusion_matrix\n",
    "\n",
    "clf = GradientBoostingClassifier(n_estimators=100, learning_rate=0.1, max_depth=3)\n",
    "clf.fit(X_train, y_train)\n",
    "\n",
    "\n",
    "\n",
    "# Predicting and evaluate\n",
    "y_pred = clf.predict(X_test)\n",
    "\n",
    "print(\"Accuracy:\", accuracy_score(y_test, y_pred))\n",
    "print(\"\\nClassification Report:\\n\", classification_report(y_test, y_pred))\n",
    "print(\"\\nConfusion Matrix:\\n\", confusion_matrix(y_test, y_pred))\n"
   ]
  },
  {
   "cell_type": "code",
   "execution_count": 108,
   "id": "ab921a5d",
   "metadata": {},
   "outputs": [
    {
     "data": {
      "image/png": "[encoded data removed]",
      "text/plain": [
       "<Figure size 640x480 with 1 Axes>"
      ]
     },
     "metadata": {},
     "output_type": "display_data"
    }
   ],
   "source": [
    "from sklearn.metrics import roc_curve, auc\n",
    "import matplotlib.pyplot as plt\n",
    "\n",
    "y_probs = clf.predict_proba(X_test)[:, 1]\n",
    "fpr, tpr, _ = roc_curve(y_test, y_probs)\n",
    "roc_auc = auc(fpr, tpr)\n",
    "\n",
    "\n",
    "\n",
    "plt.figure()\n",
    "plt.plot(fpr, tpr, label=f\"ROC curve (AUC = {roc_auc:.2f})\")\n",
    "plt.plot([0, 1], [0, 1], linestyle=\"--\")\n",
    "plt.xlabel(\"False Positive Rate\")\n",
    "plt.ylabel(\"True Positive Rate\")\n",
    "plt.title(\"ROC Curve\")\n",
    "plt.legend()\n",
    "plt.show()\n"
   ]
  },
  {
   "cell_type": "markdown",
   "id": "8f4f64fc",
   "metadata": {},
   "source": [
    "Logistic Regression"
   ]
  },
  {
   "cell_type": "code",
   "execution_count": null,
   "id": "2eab3cfa",
   "metadata": {},
   "outputs": [
    {
     "name": "stdout",
     "output_type": "stream",
     "text": [
      "[[789   0]\n",
      " [284   0]]\n",
      "              precision    recall  f1-score   support\n",
      "\n",
      "           0       0.74      1.00      0.85       789\n",
      "           1       0.00      0.00      0.00       284\n",
      "\n",
      "    accuracy                           0.74      1073\n",
      "   macro avg       0.37      0.50      0.42      1073\n",
      "weighted avg       0.54      0.74      0.62      1073\n",
      "\n"
     ]
    },
    {
     "name": "stderr",
     "output_type": "stream",
     "text": [
      "/Users/qasim/Library/Python/3.9/lib/python/site-packages/sklearn/metrics/_classification.py:1565: UndefinedMetricWarning: Precision is ill-defined and being set to 0.0 in labels with no predicted samples. Use `zero_division` parameter to control this behavior.\n",
      "  _warn_prf(average, modifier, f\"{metric.capitalize()} is\", len(result))\n",
      "/Users/qasim/Library/Python/3.9/lib/python/site-packages/sklearn/metrics/_classification.py:1565: UndefinedMetricWarning: Precision is ill-defined and being set to 0.0 in labels with no predicted samples. Use `zero_division` parameter to control this behavior.\n",
      "  _warn_prf(average, modifier, f\"{metric.capitalize()} is\", len(result))\n",
      "/Users/qasim/Library/Python/3.9/lib/python/site-packages/sklearn/metrics/_classification.py:1565: UndefinedMetricWarning: Precision is ill-defined and being set to 0.0 in labels with no predicted samples. Use `zero_division` parameter to control this behavior.\n",
      "  _warn_prf(average, modifier, f\"{metric.capitalize()} is\", len(result))\n"
     ]
    }
   ],
   "source": [
    "from sklearn.linear_model import LogisticRegression\n",
    "from sklearn.metrics import classification_report, confusion_matrix\n",
    "from sklearn.model_selection import train_test_split\n",
    "\n",
    "# Define features/target\n",
    "features = [\n",
    "    \"sentiment_score\",\n",
    "    \"headline_length\",\n",
    "    \"word_count\",\n",
    "    \"contains_question_mark\",\n",
    "    \"contains_exclamation\",\n",
    "    \"num_positive_keywords\",\n",
    "    \"num_negative_keywords\"\n",
    "]\n",
    "X = df[features]\n",
    "y = df['label']  # Binary label: 1 if >1% increase, else 0\n",
    "\n",
    "#  Cleaning the numeric data\n",
    "X = X.apply(pd.to_numeric, errors='coerce')\n",
    "X = X.dropna()\n",
    "y = y.loc[X.index]\n",
    "\n",
    "X_train, X_test, y_train, y_test = train_test_split(X, y, test_size=0.2, random_state=42)\n",
    "\n",
    "# Train logistic regression\n",
    "model = LogisticRegression(max_iter=1000)\n",
    "model.fit(X_train, y_train)\n",
    "\n",
    "#  Evaluate\n",
    "y_pred = model.predict(X_test)\n",
    "print(confusion_matrix(y_test, y_pred))\n",
    "print(classification_report(y_test, y_pred))\n"
   ]
  }
 ],
 "metadata": {
  "kernelspec": {
   "display_name": "Python 3",
   "language": "python",
   "name": "python3"
  },
  "language_info": {
   "codemirror_mode": {
    "name": "ipython",
    "version": 3
   },
   "file_extension": ".py",
   "mimetype": "text/x-python",
   "name": "python",
   "nbconvert_exporter": "python",
   "pygments_lexer": "ipython3",
   "version": "3.9.6"
  }
 },
 "nbformat": 4,
 "nbformat_minor": 5
}
