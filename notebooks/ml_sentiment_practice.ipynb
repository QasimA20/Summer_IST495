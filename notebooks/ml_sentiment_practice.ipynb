{
 "cells": [
  {
   "cell_type": "code",
   "execution_count": 1,
   "id": "2bb1ad3b",
   "metadata": {},
   "outputs": [],
   "source": [
    "import pandas as pd\n",
    "import mysql.connector\n",
    "import matplotlib.pyplot as plt\n",
    "from sklearn.model_selection import train_test_split\n",
    "from sklearn.ensemble import RandomForestClassifier\n",
    "from sklearn.metrics import classification_report, confusion_matrix\n"
   ]
  },
  {
   "cell_type": "code",
   "execution_count": 2,
   "id": "0fbfacd8",
   "metadata": {},
   "outputs": [
    {
     "name": "stdout",
     "output_type": "stream",
     "text": [
      "                                            headline  sentiment_score  \\\n",
      "0  GM's $4 billion US plant investment will allow...           -0.133   \n",
      "1  Microsoft Debuts ROG Xbox Ally Handhelds, Mark...            0.500   \n",
      "2  Ameresco Celebrates the Completion Solar Canop...            0.900   \n",
      "3  UK Regulator Partners with Nvidia to Help Bank...            0.300   \n",
      "4      Apple to Open its AI Models to App Developers            0.000   \n",
      "\n",
      "  price_label_1h  \n",
      "0        Neutral  \n",
      "1        Neutral  \n",
      "2           Down  \n",
      "3        Neutral  \n",
      "4        Neutral  \n"
     ]
    },
    {
     "name": "stderr",
     "output_type": "stream",
     "text": [
      "/var/folders/8n/rfbb5wx545s1sgtlncggpk240000gn/T/ipykernel_72412/1607026733.py:15: UserWarning: pandas only supports SQLAlchemy connectable (engine/connection) or database string URI or sqlite3 DBAPI2 connection. Other DBAPI2 objects are not tested. Please consider using SQLAlchemy.\n",
      "  df = pd.read_sql(query, conn)\n"
     ]
    }
   ],
   "source": [
    "\n",
    "# Connect to  DB\n",
    "conn = mysql.connector.connect(\n",
    "    host=\"localhost\",\n",
    "    user=\"root\",\n",
    "    password=\"Qasim2004\",\n",
    "    database=\"stock_news\"\n",
    ")\n",
    "\n",
    "query = \"\"\"\n",
    "SELECT headline, sentiment_score, price_label_1h\n",
    "FROM headlines\n",
    "WHERE price_label_1h IS NOT NULL\n",
    "\n",
    "\"\"\"\n",
    "df = pd.read_sql(query, conn)\n",
    "conn.close()\n",
    "\n",
    "# Quick preview\n",
    "print(df.head())\n"
   ]
  },
  {
   "cell_type": "code",
   "execution_count": 3,
   "id": "273f1fb1",
   "metadata": {},
   "outputs": [
    {
     "name": "stdout",
     "output_type": "stream",
     "text": [
      "price_label_1h\n",
      "Neutral    1027\n",
      "Up           78\n",
      "Down         63\n",
      "Name: count, dtype: int64\n"
     ]
    }
   ],
   "source": [
    "print(df['price_label_1h'].value_counts())"
   ]
  },
  {
   "cell_type": "code",
   "execution_count": null,
   "id": "f7d8561d",
   "metadata": {},
   "outputs": [
    {
     "name": "stdout",
     "output_type": "stream",
     "text": [
      "                                            headline  sentiment_score  \\\n",
      "0  GM's $4 billion US plant investment will allow...           -0.133   \n",
      "1  Microsoft Debuts ROG Xbox Ally Handhelds, Mark...            0.500   \n",
      "2  Ameresco Celebrates the Completion Solar Canop...            0.900   \n",
      "3  UK Regulator Partners with Nvidia to Help Bank...            0.300   \n",
      "4      Apple to Open its AI Models to App Developers            0.000   \n",
      "\n",
      "  price_label_24h  \n",
      "0            Down  \n",
      "1              Up  \n",
      "2              Up  \n",
      "3              Up  \n",
      "4         Neutral  \n"
     ]
    },
    {
     "name": "stderr",
     "output_type": "stream",
     "text": [
      "/var/folders/8n/rfbb5wx545s1sgtlncggpk240000gn/T/ipykernel_72412/3055546509.py:12: UserWarning: pandas only supports SQLAlchemy connectable (engine/connection) or database string URI or sqlite3 DBAPI2 connection. Other DBAPI2 objects are not tested. Please consider using SQLAlchemy.\n",
      "  df = pd.read_sql(query, conn)\n"
     ]
    }
   ],
   "source": [
    "conn = mysql.connector.connect(\n",
    "    host=\"localhost\",\n",
    "    user=\"root\",\n",
    "    password=\"Qasim2004\",\n",
    "    database=\"stock_news\"\n",
    ")\n",
    "\n",
    "# Query headlines table\n",
    "query = \"SELECT headline, sentiment_score, price_label_24h FROM headlines WHERE price_label_24h IS NOT NULL\"\n",
    "\n",
    "# Load into pandas DataFrame\n",
    "df = pd.read_sql(query, conn)\n",
    "\n",
    "conn.close()\n",
    "\n",
    "print(df.head())\n"
   ]
  },
  {
   "cell_type": "code",
   "execution_count": null,
   "id": "1d006729",
   "metadata": {},
   "outputs": [
    {
     "name": "stdout",
     "output_type": "stream",
     "text": [
      "              precision    recall  f1-score   support\n",
      "\n",
      "        Down       0.32      0.21      0.25        53\n",
      "     Neutral       0.57      0.25      0.35       102\n",
      "          Up       0.31      0.66      0.42        65\n",
      "\n",
      "    accuracy                           0.36       220\n",
      "   macro avg       0.40      0.37      0.34       220\n",
      "weighted avg       0.43      0.36      0.35       220\n",
      "\n",
      "[[11  7 35]\n",
      " [14 26 62]\n",
      " [ 9 13 43]]\n"
     ]
    }
   ],
   "source": [
    "\n",
    "# Use 24h label\n",
    "X = df[['sentiment_score']]\n",
    "y = df['price_label_24h']\n",
    "\n",
    "# Split into training and test sets\n",
    "X_train, X_test, y_train, y_test = train_test_split(\n",
    "    X, y, test_size=0.2, random_state=42, stratify=y\n",
    ")\n",
    "\n",
    "# Create and train model with class balancing\n",
    "model = RandomForestClassifier(class_weight='balanced', random_state=42)\n",
    "model.fit(X_train, y_train)\n",
    "\n",
    "# Predict\n",
    "y_pred = model.predict(X_test)\n",
    "\n",
    "# Evaluate\n",
    "print(classification_report(y_test, y_pred))\n",
    "print(confusion_matrix(y_test, y_pred))\n"
   ]
  },
  {
   "cell_type": "code",
   "execution_count": 6,
   "id": "01e95cf8",
   "metadata": {},
   "outputs": [
    {
     "name": "stderr",
     "output_type": "stream",
     "text": [
      "/var/folders/8n/rfbb5wx545s1sgtlncggpk240000gn/T/ipykernel_72412/2764492087.py:13: UserWarning: pandas only supports SQLAlchemy connectable (engine/connection) or database string URI or sqlite3 DBAPI2 connection. Other DBAPI2 objects are not tested. Please consider using SQLAlchemy.\n",
      "  df = pd.read_sql(query, conn)\n"
     ]
    }
   ],
   "source": [
    "conn = mysql.connector.connect(\n",
    "    host=\"localhost\",\n",
    "    user=\"root\",\n",
    "    password=\"Qasim2004\",\n",
    "    database=\"stock_news\"\n",
    ")\n",
    "# Pull full data needed for 4d label\n",
    "query = \"\"\"\n",
    "    SELECT headline, sentiment_score, price_at_time, price_4d_later\n",
    "    FROM headlines\n",
    "    WHERE price_at_time IS NOT NULL AND price_4d_later IS NOT NULL\n",
    "\"\"\"\n",
    "df = pd.read_sql(query, conn)\n",
    "\n",
    "# Labeling function\n",
    "def label_price_4d(row):\n",
    "    change = (row['price_4d_later'] - row['price_at_time']) / row['price_at_time']\n",
    "    if change > 0.01:\n",
    "        return 'Up'\n",
    "    elif change < -0.01:\n",
    "        return 'Down'\n",
    "    else:\n",
    "        return 'Neutral'\n",
    "\n",
    "# Create new column\n",
    "df['price_label_4d'] = df.apply(label_price_4d, axis=1)\n"
   ]
  },
  {
   "cell_type": "code",
   "execution_count": 7,
   "id": "f8a1b490",
   "metadata": {},
   "outputs": [
    {
     "name": "stdout",
     "output_type": "stream",
     "text": [
      "✅ Sentiment tagging complete.\n"
     ]
    }
   ],
   "source": [
    "import sys\n",
    "sys.path.append(\"/Users/qasim/Documents/Analyzer Internship Project/Summer_IST495/stock-sentiment-project/Sentiment Scripts\")\n",
    "\n",
    "from sentiment_score_intro import sentiment_dict\n"
   ]
  },
  {
   "cell_type": "code",
   "execution_count": null,
   "id": "d964e695",
   "metadata": {},
   "outputs": [
    {
     "name": "stdout",
     "output_type": "stream",
     "text": [
      "0\n"
     ]
    },
    {
     "name": "stderr",
     "output_type": "stream",
     "text": [
      "/var/folders/8n/rfbb5wx545s1sgtlncggpk240000gn/T/ipykernel_72412/2567161874.py:24: UserWarning: pandas only supports SQLAlchemy connectable (engine/connection) or database string URI or sqlite3 DBAPI2 connection. Other DBAPI2 objects are not tested. Please consider using SQLAlchemy.\n",
      "  df = pd.read_sql(query, conn)\n"
     ]
    }
   ],
   "source": [
    "import pandas as pd\n",
    "import mysql.connector\n",
    "\n",
    "conn = mysql.connector.connect(\n",
    "    host=\"localhost\",\n",
    "    user=\"root\",\n",
    "    password=\"Qasim2004\",\n",
    "    database=\"stock_news\"\n",
    ")\n",
    "\n",
    "query = \"\"\"\n",
    "SELECT\n",
    "    headline,\n",
    "    sentiment_score,\n",
    "    sentiment_confidence,\n",
    "    price_change_pct_1h,\n",
    "    price_change_pct_4h,\n",
    "    price_label_4d\n",
    "FROM headlines\n",
    "WHERE price_label_4d IS NOT NULL\n",
    "\"\"\"\n",
    "\n",
    "df = pd.read_sql(query, conn)\n",
    "conn.close()\n",
    "\n",
    "# Map the sentiment_confidence to numeric\n",
    "confidence_map = {\n",
    "    'High': 1.0,\n",
    "    'Medium': 0.66,\n",
    "    'Low': 0.33,\n",
    "    None: 0.0\n",
    "}\n",
    "df['confidence_score'] = df['sentiment_confidence'].map(confidence_map)\n",
    "print(df['confidence_score'].isna().sum())  # should now be 0\n",
    "\n",
    "\n",
    "# define X and y\n",
    "X = df[['sentiment_score', 'confidence_score', 'price_change_pct_1h', 'price_change_pct_4h']]\n",
    "y = df['price_label_4d']\n",
    "\n",
    "#Drop rows with NaNs\n",
    "X = X[y.notna() & X['confidence_score'].notna()]\n",
    "y = y[y.notna() & X['confidence_score'].notna()]\n"
   ]
  },
  {
   "cell_type": "code",
   "execution_count": null,
   "id": "23aea45f",
   "metadata": {},
   "outputs": [
    {
     "name": "stdout",
     "output_type": "stream",
     "text": [
      "              precision    recall  f1-score   support\n",
      "\n",
      "        Down       0.52      0.46      0.49        84\n",
      "     Neutral       0.43      0.46      0.45        67\n",
      "          Up       0.42      0.45      0.44        60\n",
      "\n",
      "    accuracy                           0.46       211\n",
      "   macro avg       0.46      0.46      0.46       211\n",
      "weighted avg       0.46      0.46      0.46       211\n",
      "\n",
      "[[39 22 23]\n",
      " [22 31 14]\n",
      " [14 19 27]]\n"
     ]
    }
   ],
   "source": [
    "\n",
    "\n",
    "\n",
    "mask = X.notna().all(axis=1) & y.notna()\n",
    "X = X[mask]\n",
    "y = y[mask]\n",
    "\n",
    "#  Train/test split\n",
    "X_train, X_test, y_train, y_test = train_test_split(\n",
    "    X, y, test_size=0.3, random_state=42, stratify=y\n",
    ")\n",
    "\n",
    "#Training model\n",
    "clf = RandomForestClassifier(n_estimators=100, random_state=42)\n",
    "clf.fit(X_train, y_train)\n",
    "\n",
    "y_pred = clf.predict(X_test)\n",
    "print(classification_report(y_test, y_pred))\n",
    "print(confusion_matrix(y_test, y_pred))\n"
   ]
  },
  {
   "cell_type": "code",
   "execution_count": 10,
   "id": "cfccaa34",
   "metadata": {},
   "outputs": [
    {
     "data": {
      "image/png": "[encoded data removed]",
      "text/plain": [
       "<Figure size 600x400 with 1 Axes>"
      ]
     },
     "metadata": {},
     "output_type": "display_data"
    }
   ],
   "source": [
    "import matplotlib.pyplot as plt\n",
    "\n",
    "# Check feature importances\n",
    "importances = clf.feature_importances_\n",
    "feature_names = X.columns\n",
    "\n",
    "plt.figure(figsize=(6, 4))\n",
    "plt.barh(feature_names, importances)\n",
    "plt.title(\"Feature Importance\")\n",
    "plt.xlabel(\"Importance\")\n",
    "plt.ylabel(\"Feature\")\n",
    "plt.tight_layout()\n",
    "plt.show()\n",
    "\n"
   ]
  }
 ],
 "metadata": {
  "kernelspec": {
   "display_name": "Python 3",
   "language": "python",
   "name": "python3"
  },
  "language_info": {
   "codemirror_mode": {
    "name": "ipython",
    "version": 3
   },
   "file_extension": ".py",
   "mimetype": "text/x-python",
   "name": "python",
   "nbconvert_exporter": "python",
   "pygments_lexer": "ipython3",
   "version": "3.9.6"
  }
 },
 "nbformat": 4,
 "nbformat_minor": 5
}
